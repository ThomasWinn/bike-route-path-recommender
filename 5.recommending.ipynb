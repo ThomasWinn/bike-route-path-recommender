{
 "cells": [
  {
   "cell_type": "markdown",
   "metadata": {},
   "source": [
    "Combining One Hot Encoding with synopsis embeddings... Why does it make sense? Combining both types of features allows the similarity calculation to consider both the detailed textual description and specific categorical attributes, leading to more accurate and relevant recommendations."
   ]
  },
  {
   "cell_type": "code",
   "execution_count": 30,
   "metadata": {},
   "outputs": [],
   "source": [
    "import ast\n",
    "\n",
    "import matplotlib.pyplot as plt\n",
    "import pandas as pd\n",
    "import numpy as np\n",
    "import matplotlib.pyplot as plt\n",
    "import seaborn as sns\n",
    "from sklearn.metrics.pairwise import cosine_similarity\n",
    "\n",
    "\n",
    "from sklearn.preprocessing import MultiLabelBinarizer, StandardScaler"
   ]
  },
  {
   "cell_type": "code",
   "execution_count": 2,
   "metadata": {},
   "outputs": [
    {
     "data": {
      "text/html": [
       "<div>\n",
       "<style scoped>\n",
       "    .dataframe tbody tr th:only-of-type {\n",
       "        vertical-align: middle;\n",
       "    }\n",
       "\n",
       "    .dataframe tbody tr th {\n",
       "        vertical-align: top;\n",
       "    }\n",
       "\n",
       "    .dataframe thead th {\n",
       "        text-align: right;\n",
       "    }\n",
       "</style>\n",
       "<table border=\"1\" class=\"dataframe\">\n",
       "  <thead>\n",
       "    <tr style=\"text-align: right;\">\n",
       "      <th></th>\n",
       "      <th>title</th>\n",
       "      <th>type</th>\n",
       "      <th>score</th>\n",
       "      <th>genres</th>\n",
       "      <th>themes</th>\n",
       "      <th>demographics</th>\n",
       "      <th>authors</th>\n",
       "      <th>synopsis</th>\n",
       "      <th>background</th>\n",
       "      <th>url</th>\n",
       "      <th>embeddings</th>\n",
       "    </tr>\n",
       "  </thead>\n",
       "  <tbody>\n",
       "    <tr>\n",
       "      <th>0</th>\n",
       "      <td>Berserk</td>\n",
       "      <td>manga</td>\n",
       "      <td>9.47</td>\n",
       "      <td>['Action', 'Adventure', 'Award Winning', 'Dram...</td>\n",
       "      <td>['Gore', 'Military', 'Mythology', 'Psychologic...</td>\n",
       "      <td>['Seinen']</td>\n",
       "      <td>[{'id': 1868, 'first_name': 'Kentarou', 'last_...</td>\n",
       "      <td>Guts, a former mercenary now known as the \"Bla...</td>\n",
       "      <td>Berserk won the Award for Excellence at the si...</td>\n",
       "      <td>https://myanimelist.net/manga/2/Berserk</td>\n",
       "      <td>0.07373989,0.080003224,0.0119243795,0.04972718...</td>\n",
       "    </tr>\n",
       "    <tr>\n",
       "      <th>1</th>\n",
       "      <td>One Piece</td>\n",
       "      <td>manga</td>\n",
       "      <td>9.22</td>\n",
       "      <td>['Action', 'Adventure', 'Fantasy']</td>\n",
       "      <td>[]</td>\n",
       "      <td>['Shounen']</td>\n",
       "      <td>[{'id': 1881, 'first_name': 'Eiichiro', 'last_...</td>\n",
       "      <td>Gol D. Roger, a man referred to as the \"King o...</td>\n",
       "      <td>One Piece is the highest selling manga series ...</td>\n",
       "      <td>https://myanimelist.net/manga/13/One_Piece</td>\n",
       "      <td>0.120224416,0.2653468,-0.006954093,0.023620032...</td>\n",
       "    </tr>\n",
       "    <tr>\n",
       "      <th>2</th>\n",
       "      <td>JoJo no Kimyou na Bouken Part 7: Steel Ball Run</td>\n",
       "      <td>manga</td>\n",
       "      <td>9.30</td>\n",
       "      <td>['Action', 'Adventure', 'Mystery', 'Supernatur...</td>\n",
       "      <td>['Historical']</td>\n",
       "      <td>['Seinen', 'Shounen']</td>\n",
       "      <td>[{'id': 2619, 'first_name': 'Hirohiko', 'last_...</td>\n",
       "      <td>In the American Old West, the world's greatest...</td>\n",
       "      <td>JoJo no Kimyou na Bouken Part 7: Steel Ball Ru...</td>\n",
       "      <td>https://myanimelist.net/manga/1706/JoJo_no_Kim...</td>\n",
       "      <td>-0.13708049,0.2916467,0.015403955,0.18725339,0...</td>\n",
       "    </tr>\n",
       "    <tr>\n",
       "      <th>3</th>\n",
       "      <td>Oyasumi Punpun</td>\n",
       "      <td>manga</td>\n",
       "      <td>9.02</td>\n",
       "      <td>['Drama', 'Slice of Life']</td>\n",
       "      <td>['Psychological']</td>\n",
       "      <td>['Seinen']</td>\n",
       "      <td>[{'id': 2836, 'first_name': 'Inio', 'last_name...</td>\n",
       "      <td>Punpun Onodera is a normal 11-year-old boy liv...</td>\n",
       "      <td>Oyasumi Punpun was originally serialized in Yo...</td>\n",
       "      <td>https://myanimelist.net/manga/4632/Oyasumi_Punpun</td>\n",
       "      <td>0.14025311,0.3358102,-0.0030324818,0.071511015...</td>\n",
       "    </tr>\n",
       "    <tr>\n",
       "      <th>4</th>\n",
       "      <td>Fullmetal Alchemist</td>\n",
       "      <td>manga</td>\n",
       "      <td>9.03</td>\n",
       "      <td>['Action', 'Adventure', 'Award Winning', 'Dram...</td>\n",
       "      <td>['Military']</td>\n",
       "      <td>['Shounen']</td>\n",
       "      <td>[{'id': 1874, 'first_name': 'Hiromu', 'last_na...</td>\n",
       "      <td>Alchemists are knowledgeable and naturally tal...</td>\n",
       "      <td>Hagane no Renkinjutsushi won the 49th Shogakuk...</td>\n",
       "      <td>https://myanimelist.net/manga/25/Fullmetal_Alc...</td>\n",
       "      <td>0.16601335,0.24077635,0.018449467,0.18147695,0...</td>\n",
       "    </tr>\n",
       "  </tbody>\n",
       "</table>\n",
       "</div>"
      ],
      "text/plain": [
       "                                             title   type  score  \\\n",
       "0                                          Berserk  manga   9.47   \n",
       "1                                        One Piece  manga   9.22   \n",
       "2  JoJo no Kimyou na Bouken Part 7: Steel Ball Run  manga   9.30   \n",
       "3                                   Oyasumi Punpun  manga   9.02   \n",
       "4                              Fullmetal Alchemist  manga   9.03   \n",
       "\n",
       "                                              genres  \\\n",
       "0  ['Action', 'Adventure', 'Award Winning', 'Dram...   \n",
       "1                 ['Action', 'Adventure', 'Fantasy']   \n",
       "2  ['Action', 'Adventure', 'Mystery', 'Supernatur...   \n",
       "3                         ['Drama', 'Slice of Life']   \n",
       "4  ['Action', 'Adventure', 'Award Winning', 'Dram...   \n",
       "\n",
       "                                              themes           demographics  \\\n",
       "0  ['Gore', 'Military', 'Mythology', 'Psychologic...             ['Seinen']   \n",
       "1                                                 []            ['Shounen']   \n",
       "2                                     ['Historical']  ['Seinen', 'Shounen']   \n",
       "3                                  ['Psychological']             ['Seinen']   \n",
       "4                                       ['Military']            ['Shounen']   \n",
       "\n",
       "                                             authors  \\\n",
       "0  [{'id': 1868, 'first_name': 'Kentarou', 'last_...   \n",
       "1  [{'id': 1881, 'first_name': 'Eiichiro', 'last_...   \n",
       "2  [{'id': 2619, 'first_name': 'Hirohiko', 'last_...   \n",
       "3  [{'id': 2836, 'first_name': 'Inio', 'last_name...   \n",
       "4  [{'id': 1874, 'first_name': 'Hiromu', 'last_na...   \n",
       "\n",
       "                                            synopsis  \\\n",
       "0  Guts, a former mercenary now known as the \"Bla...   \n",
       "1  Gol D. Roger, a man referred to as the \"King o...   \n",
       "2  In the American Old West, the world's greatest...   \n",
       "3  Punpun Onodera is a normal 11-year-old boy liv...   \n",
       "4  Alchemists are knowledgeable and naturally tal...   \n",
       "\n",
       "                                          background  \\\n",
       "0  Berserk won the Award for Excellence at the si...   \n",
       "1  One Piece is the highest selling manga series ...   \n",
       "2  JoJo no Kimyou na Bouken Part 7: Steel Ball Ru...   \n",
       "3  Oyasumi Punpun was originally serialized in Yo...   \n",
       "4  Hagane no Renkinjutsushi won the 49th Shogakuk...   \n",
       "\n",
       "                                                 url  \\\n",
       "0            https://myanimelist.net/manga/2/Berserk   \n",
       "1         https://myanimelist.net/manga/13/One_Piece   \n",
       "2  https://myanimelist.net/manga/1706/JoJo_no_Kim...   \n",
       "3  https://myanimelist.net/manga/4632/Oyasumi_Punpun   \n",
       "4  https://myanimelist.net/manga/25/Fullmetal_Alc...   \n",
       "\n",
       "                                          embeddings  \n",
       "0  0.07373989,0.080003224,0.0119243795,0.04972718...  \n",
       "1  0.120224416,0.2653468,-0.006954093,0.023620032...  \n",
       "2  -0.13708049,0.2916467,0.015403955,0.18725339,0...  \n",
       "3  0.14025311,0.3358102,-0.0030324818,0.071511015...  \n",
       "4  0.16601335,0.24077635,0.018449467,0.18147695,0...  "
      ]
     },
     "execution_count": 2,
     "metadata": {},
     "output_type": "execute_result"
    }
   ],
   "source": [
    "df = pd.read_csv('dataset/manga_dataset_with_filled_ratings_paraphrase-mpnet-base-v2.csv')\n",
    "df.head()"
   ]
  },
  {
   "cell_type": "code",
   "execution_count": 20,
   "metadata": {},
   "outputs": [
    {
     "name": "stderr",
     "output_type": "stream",
     "text": [
      "C:\\Users\\tpngu\\AppData\\Local\\Temp\\ipykernel_29752\\78802940.py:17: FutureWarning: \n",
      "\n",
      "`shade` is now deprecated in favor of `fill`; setting `fill=True`.\n",
      "This will become an error in seaborn v0.14.0; please update your code.\n",
      "\n",
      "  sns.kdeplot(df['score'], shade=True)\n"
     ]
    },
    {
     "data": {
      "image/png": "[encoded data removed]",
      "text/plain": [
       "<Figure size 1000x400 with 3 Axes>"
      ]
     },
     "metadata": {},
     "output_type": "display_data"
    }
   ],
   "source": [
    "# Set the style for the plots\n",
    "sns.set(style=\"whitegrid\")\n",
    "\n",
    "# Histogram\n",
    "plt.figure(figsize=(10, 4))\n",
    "plt.subplot(1, 3, 1)\n",
    "sns.histplot(df['score'], bins=10, kde=False)\n",
    "plt.title('Histogram')\n",
    "\n",
    "# Boxplot\n",
    "plt.subplot(1, 3, 2)\n",
    "sns.boxplot(y=df['score'])\n",
    "plt.title('Boxplot')\n",
    "\n",
    "# Density Plot\n",
    "plt.subplot(1, 3, 3)\n",
    "sns.kdeplot(df['score'], shade=True)\n",
    "plt.title('Density Plot')\n",
    "\n",
    "plt.tight_layout()\n",
    "plt.show()"
   ]
  },
  {
   "cell_type": "markdown",
   "metadata": {},
   "source": [
    "Normalize Scores\n",
    "\n",
    "One Hot Encode\n",
    "- themes\n",
    "- genres\n",
    "- demographic"
   ]
  },
  {
   "cell_type": "code",
   "execution_count": 4,
   "metadata": {},
   "outputs": [
    {
     "data": {
      "text/plain": [
       "array([[ 6.47408423],\n",
       "       [ 5.83057676],\n",
       "       [ 6.03649915],\n",
       "       ...,\n",
       "       [-0.01334648],\n",
       "       [-0.05343558],\n",
       "       [ 0.69662446]])"
      ]
     },
     "execution_count": 4,
     "metadata": {},
     "output_type": "execute_result"
    }
   ],
   "source": [
    "# Scale numerical features (ratings)\n",
    "scaler = StandardScaler()\n",
    "ratings_scaled = scaler.fit_transform(df[['score']])\n",
    "ratings_scaled"
   ]
  },
  {
   "cell_type": "code",
   "execution_count": 5,
   "metadata": {},
   "outputs": [],
   "source": [
    "mlb = MultiLabelBinarizer()\n",
    "\n",
    "# one hot encode the themes, genres, and demographics\n",
    "genres_encoded = mlb.fit_transform(df['genres'])\n",
    "themes_encoded = mlb.fit_transform(df['themes'])\n",
    "demographics_encoded = mlb.fit_transform(df['demographics'])"
   ]
  },
  {
   "cell_type": "code",
   "execution_count": 19,
   "metadata": {},
   "outputs": [
    {
     "name": "stdout",
     "output_type": "stream",
     "text": [
      "<class 'numpy.ndarray'> (44910, 39) int32\n",
      "<class 'numpy.ndarray'> (44910, 50) int32\n",
      "<class 'numpy.ndarray'> (44910, 17) int32\n"
     ]
    }
   ],
   "source": [
    "print(type(genres_encoded), genres_encoded.shape, genres_encoded.dtype)\n",
    "print(type(themes_encoded), themes_encoded.shape, themes_encoded.dtype)\n",
    "print(type(demographics_encoded), demographics_encoded.shape, demographics_encoded.dtype)"
   ]
  },
  {
   "cell_type": "code",
   "execution_count": 26,
   "metadata": {},
   "outputs": [
    {
     "data": {
      "text/plain": [
       "(44910, 768)"
      ]
     },
     "execution_count": 26,
     "metadata": {},
     "output_type": "execute_result"
    }
   ],
   "source": [
    "# get embeddings from df convert to numpy arrays \n",
    "# synopsis_embeddings = df['embeddings'].apply(ast.literal_eval)\n",
    "# synopsis_embeddings = np.array(df['embeddings'].tolist())\n",
    "npz_file = np.load('synopsis_embeddings.npz')\n",
    "synopsis_embeddings = npz_file['arr_0']\n",
    "synopsis_embeddings.shape"
   ]
  },
  {
   "cell_type": "code",
   "execution_count": 28,
   "metadata": {},
   "outputs": [
    {
     "name": "stdout",
     "output_type": "stream",
     "text": [
      "(44910, 874)\n"
     ]
    }
   ],
   "source": [
    "# Combine all features into a single DataFrame\n",
    "combined_features = np.hstack([\n",
    "    synopsis_embeddings, # 768\n",
    "    genres_encoded, # 39\n",
    "    themes_encoded, # 50\n",
    "    demographics_encoded # 17\n",
    "])\n",
    "print(combined_features.shape) # 44910, 874"
   ]
  },
  {
   "cell_type": "code",
   "execution_count": 31,
   "metadata": {},
   "outputs": [],
   "source": [
    "similarity_matrix = cosine_similarity(combined_features, combined_features)"
   ]
  },
  {
   "cell_type": "code",
   "execution_count": 32,
   "metadata": {},
   "outputs": [],
   "source": [
    "# Function to get recommendations based on similarity\n",
    "def get_recommendations(title, similarity_matrix, df, top_n=20):\n",
    "    idx = df[df['title'] == title].index[0]\n",
    "    sim_scores = list(enumerate(similarity_matrix[idx]))\n",
    "    sim_scores = sorted(sim_scores, key=lambda x: x[1], reverse=True)\n",
    "    sim_indices = [i[0] for i in sim_scores[1:top_n+1]]\n",
    "    return df['title'].iloc[sim_indices]\n"
   ]
  },
  {
   "cell_type": "code",
   "execution_count": 37,
   "metadata": {},
   "outputs": [
    {
     "name": "stdout",
     "output_type": "stream",
     "text": [
      "Recommended Manga: ['Juu: Ninpou Makai Tensei', 'Pluto', 'Devilman', 'Elfen Lied', \"Eden: It's an Endless World!\"]\n"
     ]
    }
   ],
   "source": [
    "# Example usage\n",
    "recommended_titles = get_recommendations('Berserk', similarity_matrix, df)\n",
    "print(\"Recommended Manga:\", recommended_titles.tolist())"
   ]
  }
 ],
 "metadata": {
  "kernelspec": {
   "display_name": "manga-rec",
   "language": "python",
   "name": "python3"
  },
  "language_info": {
   "codemirror_mode": {
    "name": "ipython",
    "version": 3
   },
   "file_extension": ".py",
   "mimetype": "text/x-python",
   "name": "python",
   "nbconvert_exporter": "python",
   "pygments_lexer": "ipython3",
   "version": "3.8.19"
  }
 },
 "nbformat": 4,
 "nbformat_minor": 2
}
