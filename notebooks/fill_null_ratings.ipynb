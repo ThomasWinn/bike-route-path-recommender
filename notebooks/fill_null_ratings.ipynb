{
 "cells": [
  {
   "cell_type": "code",
   "execution_count": 1,
   "metadata": {},
   "outputs": [],
   "source": [
    "\n",
    "import ast\n",
    "\n",
    "import matplotlib.pyplot as plt\n",
    "import numpy as np\n",
    "import pandas as pd\n",
    "from sklearn.metrics import mean_squared_error\n",
    "from sklearn.metrics.pairwise import cosine_similarity\n",
    "from sklearn.model_selection import KFold\n"
   ]
  },
  {
   "cell_type": "code",
   "execution_count": 3,
   "metadata": {},
   "outputs": [
    {
     "data": {
      "text/html": [
       "<div>\n",
       "<style scoped>\n",
       "    .dataframe tbody tr th:only-of-type {\n",
       "        vertical-align: middle;\n",
       "    }\n",
       "\n",
       "    .dataframe tbody tr th {\n",
       "        vertical-align: top;\n",
       "    }\n",
       "\n",
       "    .dataframe thead th {\n",
       "        text-align: right;\n",
       "    }\n",
       "</style>\n",
       "<table border=\"1\" class=\"dataframe\">\n",
       "  <thead>\n",
       "    <tr style=\"text-align: right;\">\n",
       "      <th></th>\n",
       "      <th>title</th>\n",
       "      <th>type</th>\n",
       "      <th>score</th>\n",
       "      <th>genres</th>\n",
       "      <th>themes</th>\n",
       "      <th>demographics</th>\n",
       "      <th>authors</th>\n",
       "      <th>synopsis</th>\n",
       "      <th>background</th>\n",
       "      <th>url</th>\n",
       "    </tr>\n",
       "  </thead>\n",
       "  <tbody>\n",
       "    <tr>\n",
       "      <th>0</th>\n",
       "      <td>Berserk</td>\n",
       "      <td>manga</td>\n",
       "      <td>9.47</td>\n",
       "      <td>['Action', 'Adventure', 'Award Winning', 'Dram...</td>\n",
       "      <td>['Gore', 'Military', 'Mythology', 'Psychologic...</td>\n",
       "      <td>['Seinen']</td>\n",
       "      <td>[{'id': 1868, 'first_name': 'Kentarou', 'last_...</td>\n",
       "      <td>Guts, a former mercenary now known as the \"Bla...</td>\n",
       "      <td>Berserk won the Award for Excellence at the si...</td>\n",
       "      <td>https://myanimelist.net/manga/2/Berserk</td>\n",
       "    </tr>\n",
       "    <tr>\n",
       "      <th>1</th>\n",
       "      <td>One Piece</td>\n",
       "      <td>manga</td>\n",
       "      <td>9.22</td>\n",
       "      <td>['Action', 'Adventure', 'Fantasy']</td>\n",
       "      <td>[]</td>\n",
       "      <td>['Shounen']</td>\n",
       "      <td>[{'id': 1881, 'first_name': 'Eiichiro', 'last_...</td>\n",
       "      <td>Gol D. Roger, a man referred to as the \"King o...</td>\n",
       "      <td>One Piece is the highest selling manga series ...</td>\n",
       "      <td>https://myanimelist.net/manga/13/One_Piece</td>\n",
       "    </tr>\n",
       "    <tr>\n",
       "      <th>2</th>\n",
       "      <td>JoJo no Kimyou na Bouken Part 7: Steel Ball Run</td>\n",
       "      <td>manga</td>\n",
       "      <td>9.30</td>\n",
       "      <td>['Action', 'Adventure', 'Mystery', 'Supernatur...</td>\n",
       "      <td>['Historical']</td>\n",
       "      <td>['Seinen', 'Shounen']</td>\n",
       "      <td>[{'id': 2619, 'first_name': 'Hirohiko', 'last_...</td>\n",
       "      <td>In the American Old West, the world's greatest...</td>\n",
       "      <td>JoJo no Kimyou na Bouken Part 7: Steel Ball Ru...</td>\n",
       "      <td>https://myanimelist.net/manga/1706/JoJo_no_Kim...</td>\n",
       "    </tr>\n",
       "    <tr>\n",
       "      <th>3</th>\n",
       "      <td>Oyasumi Punpun</td>\n",
       "      <td>manga</td>\n",
       "      <td>9.02</td>\n",
       "      <td>['Drama', 'Slice of Life']</td>\n",
       "      <td>['Psychological']</td>\n",
       "      <td>['Seinen']</td>\n",
       "      <td>[{'id': 2836, 'first_name': 'Inio', 'last_name...</td>\n",
       "      <td>Punpun Onodera is a normal 11-year-old boy liv...</td>\n",
       "      <td>Oyasumi Punpun was originally serialized in Yo...</td>\n",
       "      <td>https://myanimelist.net/manga/4632/Oyasumi_Punpun</td>\n",
       "    </tr>\n",
       "    <tr>\n",
       "      <th>4</th>\n",
       "      <td>Fullmetal Alchemist</td>\n",
       "      <td>manga</td>\n",
       "      <td>9.03</td>\n",
       "      <td>['Action', 'Adventure', 'Award Winning', 'Dram...</td>\n",
       "      <td>['Military']</td>\n",
       "      <td>['Shounen']</td>\n",
       "      <td>[{'id': 1874, 'first_name': 'Hiromu', 'last_na...</td>\n",
       "      <td>Alchemists are knowledgeable and naturally tal...</td>\n",
       "      <td>Hagane no Renkinjutsushi won the 49th Shogakuk...</td>\n",
       "      <td>https://myanimelist.net/manga/25/Fullmetal_Alc...</td>\n",
       "    </tr>\n",
       "  </tbody>\n",
       "</table>\n",
       "</div>"
      ],
      "text/plain": [
       "                                             title   type  score  \\\n",
       "0                                          Berserk  manga   9.47   \n",
       "1                                        One Piece  manga   9.22   \n",
       "2  JoJo no Kimyou na Bouken Part 7: Steel Ball Run  manga   9.30   \n",
       "3                                   Oyasumi Punpun  manga   9.02   \n",
       "4                              Fullmetal Alchemist  manga   9.03   \n",
       "\n",
       "                                              genres  \\\n",
       "0  ['Action', 'Adventure', 'Award Winning', 'Dram...   \n",
       "1                 ['Action', 'Adventure', 'Fantasy']   \n",
       "2  ['Action', 'Adventure', 'Mystery', 'Supernatur...   \n",
       "3                         ['Drama', 'Slice of Life']   \n",
       "4  ['Action', 'Adventure', 'Award Winning', 'Dram...   \n",
       "\n",
       "                                              themes           demographics  \\\n",
       "0  ['Gore', 'Military', 'Mythology', 'Psychologic...             ['Seinen']   \n",
       "1                                                 []            ['Shounen']   \n",
       "2                                     ['Historical']  ['Seinen', 'Shounen']   \n",
       "3                                  ['Psychological']             ['Seinen']   \n",
       "4                                       ['Military']            ['Shounen']   \n",
       "\n",
       "                                             authors  \\\n",
       "0  [{'id': 1868, 'first_name': 'Kentarou', 'last_...   \n",
       "1  [{'id': 1881, 'first_name': 'Eiichiro', 'last_...   \n",
       "2  [{'id': 2619, 'first_name': 'Hirohiko', 'last_...   \n",
       "3  [{'id': 2836, 'first_name': 'Inio', 'last_name...   \n",
       "4  [{'id': 1874, 'first_name': 'Hiromu', 'last_na...   \n",
       "\n",
       "                                            synopsis  \\\n",
       "0  Guts, a former mercenary now known as the \"Bla...   \n",
       "1  Gol D. Roger, a man referred to as the \"King o...   \n",
       "2  In the American Old West, the world's greatest...   \n",
       "3  Punpun Onodera is a normal 11-year-old boy liv...   \n",
       "4  Alchemists are knowledgeable and naturally tal...   \n",
       "\n",
       "                                          background  \\\n",
       "0  Berserk won the Award for Excellence at the si...   \n",
       "1  One Piece is the highest selling manga series ...   \n",
       "2  JoJo no Kimyou na Bouken Part 7: Steel Ball Ru...   \n",
       "3  Oyasumi Punpun was originally serialized in Yo...   \n",
       "4  Hagane no Renkinjutsushi won the 49th Shogakuk...   \n",
       "\n",
       "                                                 url  \n",
       "0            https://myanimelist.net/manga/2/Berserk  \n",
       "1         https://myanimelist.net/manga/13/One_Piece  \n",
       "2  https://myanimelist.net/manga/1706/JoJo_no_Kim...  \n",
       "3  https://myanimelist.net/manga/4632/Oyasumi_Punpun  \n",
       "4  https://myanimelist.net/manga/25/Fullmetal_Alc...  "
      ]
     },
     "execution_count": 3,
     "metadata": {},
     "output_type": "execute_result"
    }
   ],
   "source": [
    "\n",
    "MODEL = 'paraphrase-mpnet-base-v2'\n",
    "\n",
    "# Test different values of k\n",
    "K_VALUES = [1, 3, 5, 7, 10, 15, 20, 30, 40, 50, 75, 100, 125]\n",
    "\n",
    "df = pd.read_csv('../data/raw/manga.csv')\n",
    "\n",
    "df = df.drop(['manga_id', 'scored_by', 'status', 'volumes', 'chapters', 'start_date', 'end_date', \\\n",
    "              'members', 'favorites', 'sfw', 'approved', 'created_at_before', 'updated_at', \\\n",
    "              'real_start_date', 'real_end_date', 'serializations', 'main_picture', 'title_english', 'title_japanese', 'title_synonyms'], axis=1)\n",
    "df.head()"
   ]
  },
  {
   "cell_type": "code",
   "execution_count": 4,
   "metadata": {},
   "outputs": [],
   "source": [
    "# Get rid of rows that didn't have a synopsis\n",
    "df = df.dropna(subset=['synopsis'])\n",
    "\n",
    "# fill the null'd background info to empty string if null\n",
    "df['background'] = df['background'].fillna('')"
   ]
  },
  {
   "cell_type": "code",
   "execution_count": 5,
   "metadata": {},
   "outputs": [
    {
     "name": "stdout",
     "output_type": "stream",
     "text": [
      "title               0\n",
      "type                0\n",
      "score           21787\n",
      "genres              0\n",
      "themes              0\n",
      "demographics        0\n",
      "authors             0\n",
      "synopsis            0\n",
      "background          0\n",
      "url                 0\n",
      "dtype: int64\n"
     ]
    }
   ],
   "source": [
    "print(df.isnull().sum())"
   ]
  },
  {
   "cell_type": "markdown",
   "metadata": {},
   "source": [
    "# KNN - K-Fold-Cross-Validation\n",
    "\n",
    "To find the best K value for KNN, we can use K Fold Cross Validation more robustly by reducing variability\n",
    "\n",
    "We will also make train and test set to have our KNN perform predictions to see which k is optimal for making predictions amongst our k fold dataset"
   ]
  },
  {
   "cell_type": "code",
   "execution_count": 6,
   "metadata": {},
   "outputs": [],
   "source": [
    "npz_file = np.load('../data/embeddings/synopsis_embeddings.npz')\n",
    "embeddings = npz_file['embeddings']\n",
    "\n",
    "# Extract ratings\n",
    "ratings = df['score'].values"
   ]
  },
  {
   "cell_type": "code",
   "execution_count": 7,
   "metadata": {},
   "outputs": [],
   "source": [
    "# Function to predict ratings using a given k\n",
    "def knn_predict(X_train, y_train, X_val, k):\n",
    "    similarity_matrix = cosine_similarity(X_val, X_train)\n",
    "    predictions = []\n",
    "    for idx, sim_scores in enumerate(similarity_matrix):\n",
    "        similar_indices = np.argsort(sim_scores)[::-1][:k]\n",
    "        similar_ratings = y_train[similar_indices]\n",
    "        similar_scores = sim_scores[similar_indices]\n",
    "        weighted_average = np.dot(similar_ratings, similar_scores) / similar_scores.sum()\n",
    "        predictions.append(weighted_average)\n",
    "    return np.array(predictions)"
   ]
  },
  {
   "cell_type": "code",
   "execution_count": 8,
   "metadata": {},
   "outputs": [
    {
     "name": "stdout",
     "output_type": "stream",
     "text": [
      "k=1, Average MSE=0.4542711334106424\n",
      "k=3, Average MSE=0.30162766250221684\n",
      "k=5, Average MSE=0.27510900410536465\n",
      "k=7, Average MSE=0.26474946064388943\n",
      "k=10, Average MSE=0.25733937525397554\n",
      "k=15, Average MSE=0.2516529120598833\n",
      "k=20, Average MSE=0.24825272461768616\n",
      "k=30, Average MSE=0.24613199840512862\n",
      "k=40, Average MSE=0.24549665524376502\n",
      "k=50, Average MSE=0.24492136388097788\n",
      "k=75, Average MSE=0.24491654303326693\n",
      "k=100, Average MSE=0.24551057867137063\n",
      "k=125, Average MSE=0.2461612327906008\n",
      "Best k value: 75\n"
     ]
    }
   ],
   "source": [
    "# Perform K-Fold-Cross-Validation to determine the best 'k'\n",
    "\n",
    "# Known ratings mask\n",
    "mask = ~pd.isnull(ratings)\n",
    "\n",
    "# Data for cross-validation\n",
    "X = embeddings[mask]\n",
    "y = ratings[mask]\n",
    "\n",
    "# Define k-fold cross-validation\n",
    "kf = KFold(n_splits=5, shuffle=True, random_state=42)\n",
    "\n",
    "average_errors = []\n",
    "\n",
    "# Perform k-fold cross-validation for each k\n",
    "for k in K_VALUES:\n",
    "    fold_errors = []\n",
    "    for train_index, val_index in kf.split(X):\n",
    "        X_train, X_val = X[train_index], X[val_index]\n",
    "        y_train, y_val = y[train_index], y[val_index]\n",
    "        \n",
    "        y_pred = knn_predict(X_train, y_train, X_val, k)\n",
    "        fold_error = mean_squared_error(y_val, y_pred)\n",
    "        fold_errors.append(fold_error)\n",
    "    \n",
    "    average_error = np.mean(fold_errors)\n",
    "    average_errors.append(average_error)\n",
    "    print(f\"k={k}, Average MSE={average_error}\")\n",
    "\n",
    "# Find the best k\n",
    "best_k = K_VALUES[np.argmin(average_errors)]\n",
    "print(f\"Best k value: {best_k}\")"
   ]
  },
  {
   "cell_type": "code",
   "execution_count": 9,
   "metadata": {},
   "outputs": [
    {
     "data": {
      "image/png": "[encoded data removed]",
      "text/plain": [
       "<Figure size 1000x600 with 1 Axes>"
      ]
     },
     "metadata": {},
     "output_type": "display_data"
    }
   ],
   "source": [
    "# Plot MSE for different k values\n",
    "plt.figure(figsize=(10, 6))\n",
    "plt.plot(K_VALUES, average_errors, marker='o')\n",
    "plt.xlabel('k')\n",
    "plt.ylabel('Average MSE')\n",
    "plt.title('Average MSE for Different k Values')\n",
    "plt.grid(True)\n",
    "plt.show()"
   ]
  },
  {
   "cell_type": "markdown",
   "metadata": {},
   "source": [
    "## KNN - Perform KNN to fill in missing ratings based on best 'k'"
   ]
  },
  {
   "cell_type": "code",
   "execution_count": 10,
   "metadata": {},
   "outputs": [],
   "source": [
    "# Compute cosine similarity matrix between all embeddings\n",
    "similarity_matrix = cosine_similarity(embeddings)"
   ]
  },
  {
   "cell_type": "code",
   "execution_count": 11,
   "metadata": {},
   "outputs": [],
   "source": [
    "def predict_rating(idx, k=best_k):\n",
    "    \"\"\"Computes the weighted average ratings for a null'd manga based on manga\n",
    "    that are similar synopsis wise\n",
    "    \n",
    "    EXPLANATION for weighted average - \n",
    "    Multiply ratings by corresponding similarity scores then sums those products then divide by similarity score sum so we normalize the value\n",
    "    \n",
    "    Leverages the idea that manga with more similar synopsis should have a greater influence on the predicted ratings\n",
    "    \n",
    "\n",
    "    Args:\n",
    "        idx (int): row index on dataframe\n",
    "        k (int, optional): top k similar synposis. Defaults to 5.\n",
    "\n",
    "    Returns:\n",
    "        float: final rating for that manga without a rating\n",
    "    \"\"\"\n",
    "    # Get the similarity scores for the target manga\n",
    "    sim_scores = similarity_matrix[idx]\n",
    "    \n",
    "    # Get indices of k most similar manga with non-null ratings\n",
    "    similar_indices = np.argsort(sim_scores)[::-1]\n",
    "    similar_indices = [i for i in similar_indices if not pd.isnull(ratings[i])][:k]\n",
    "    \n",
    "    if not similar_indices:\n",
    "        return np.nan  # If there are no similar rated manga, return NaN\n",
    "    similar_ratings = ratings[similar_indices]\n",
    "    similar_scores = sim_scores[similar_indices]\n",
    "    \n",
    "    # Compute the weighted average of the ratings\n",
    "    return np.dot(similar_ratings, similar_scores) / similar_scores.sum()"
   ]
  },
  {
   "cell_type": "code",
   "execution_count": 12,
   "metadata": {},
   "outputs": [],
   "source": [
    "# Predict and fill missing ratings\n",
    "for idx, rating in enumerate(ratings):\n",
    "    if pd.isnull(rating):\n",
    "        ratings[idx] = predict_rating(idx)\n",
    "\n",
    "# Update the dataframe\n",
    "df['score'] = ratings"
   ]
  },
  {
   "cell_type": "code",
   "execution_count": 13,
   "metadata": {},
   "outputs": [
    {
     "data": {
      "text/plain": [
       "title           0\n",
       "type            0\n",
       "score           0\n",
       "genres          0\n",
       "themes          0\n",
       "demographics    0\n",
       "authors         0\n",
       "synopsis        0\n",
       "background      0\n",
       "url             0\n",
       "dtype: int64"
      ]
     },
     "execution_count": 13,
     "metadata": {},
     "output_type": "execute_result"
    }
   ],
   "source": [
    "df.isnull().sum()"
   ]
  },
  {
   "cell_type": "code",
   "execution_count": 14,
   "metadata": {},
   "outputs": [],
   "source": [
    "# Save the updated dataframe to a new CSV file\n",
    "df.to_csv('../data/processed/manga_cleaned_' + MODEL + '.csv', index=False)"
   ]
  }
 ],
 "metadata": {
  "kernelspec": {
   "display_name": "manga-rec",
   "language": "python",
   "name": "python3"
  },
  "language_info": {
   "codemirror_mode": {
    "name": "ipython",
    "version": 3
   },
   "file_extension": ".py",
   "mimetype": "text/x-python",
   "name": "python",
   "nbconvert_exporter": "python",
   "pygments_lexer": "ipython3",
   "version": "3.8.19"
  }
 },
 "nbformat": 4,
 "nbformat_minor": 2
}
